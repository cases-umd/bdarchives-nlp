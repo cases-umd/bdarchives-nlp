{
 "cells": [
  {
   "cell_type": "markdown",
   "metadata": {},
   "source": [
    "# NLP for Born Digital Archives\n",
    "### SpaCy Language Processing\n",
    "* Contributors: Emily Higgs, Gregory Jansen, Richard Marciano, & Dev Pradhan\n",
    "* Source Available: https://github.com/cases-umd/bdarchives-nlp\n",
    "* License: [Creative Commons - Attribute 4.0 Intl](https://creativecommons.org/licenses/by/4.0/)\n",
    "* [Lesson Plan for Instructors](./lesson-plan.ipynb) (TBA)\n",
    "\n",
    "## Introduction\n",
    "These notebooks showcase a workflow for performing natural language processing of various text formats in\n",
    "a born digital archive. Some of these techniques might also be applied to OCR text from analog sources.\n",
    "\n",
    "<img src=\"project_image.png\" alt=\"Describe what the image shows\" title=\"Image title\" height=\"200\" width=\"200\">\n",
    "\n",
    "### Further Information\n",
    "Learn more about this project at the [website](http://researchwebsite.example.org)\n",
    "\n",
    "## Objectives\n",
    "These notebooks will familiarize the reader with standard practices of NLP for extraction of topics and\n",
    "other data from text records.\n",
    "\n",
    "## Learning Goals\n",
    "* Computational Practices:\n",
    " * [Collecting Data](#collecting_data)\n",
    " * [Modeling Data](#modeling_Data)\n",
    "* Archival Practices:\n",
    " * ??"
   ]
  },
  {
   "cell_type": "markdown",
   "metadata": {},
   "source": [
    "# Software and Tools\n",
    "These notebooks are written in Python 3 and use an NLP module called SpaCy to process text.\n",
    "\n",
    "* [SpaCy](https://spacy.io/)\n",
    "\n",
    "In order to use SpaCy in this Jupyter environment, you must first load the language model.\n",
    "This is a model of the language that you are processing. We use a small English model for \n",
    "these examples. All you have to do is execute the code block below and wait for the hourglass, shown\n",
    "in your browser tab, to disappear when the task is done."
   ]
  },
  {
   "cell_type": "code",
   "execution_count": null,
   "metadata": {},
   "outputs": [],
   "source": [
    "import sys\n",
    "!{sys.executable} -m spacy download en_core_web_sm"
   ]
  },
  {
   "cell_type": "markdown",
   "metadata": {},
   "source": [
    "# Acquiring Data\n",
    "These example notebooks are configured to process document files in the `data` directory. However, you are free\n",
    "to supply your own interesting data in any of the following formats:\n",
    "* Plain text documents\n",
    "* Word documents (.doc or .docx)\n",
    "* PDF documents\n",
    "\n",
    "You may upload your files to a new folder and then point the notebooks are the new folder instead. You may wish to \n",
    "run the example code on the example data before taking this step.\n"
   ]
  },
  {
   "cell_type": "markdown",
   "metadata": {},
   "source": [
    "# Notebooks\n",
    "1. [Data Overview and Exploration](notebook-1.ipynb)\n",
    "1. [Data Cleaning and Preparation](notebook-2.ipynb)\n",
    "1. [Computation and Transformation](notebook-3.ipynb)\n",
    "1. [Visualization and Conclusion](notebook-4.ipynb)"
   ]
  },
  {
   "cell_type": "code",
   "execution_count": null,
   "metadata": {},
   "outputs": [],
   "source": []
  }
 ],
 "metadata": {
  "kernelspec": {
   "display_name": "Python 3",
   "language": "python",
   "name": "python3"
  },
  "language_info": {
   "codemirror_mode": {
    "name": "ipython",
    "version": 3
   },
   "file_extension": ".py",
   "mimetype": "text/x-python",
   "name": "python",
   "nbconvert_exporter": "python",
   "pygments_lexer": "ipython3",
   "version": "3.7.5"
  }
 },
 "nbformat": 4,
 "nbformat_minor": 4
}
